{
 "cells": [
  {
   "cell_type": "markdown",
   "id": "912d8e9a-c0ac-4d4b-a09c-22ed17f15713",
   "metadata": {},
   "source": [
    "# I- Contexte"
   ]
  },
  {
   "cell_type": "markdown",
   "id": "134412b8-d5d9-485a-a8a5-27aceb208850",
   "metadata": {},
   "source": [
    "Vous êtes consultant Data Analyst dans une entreprise spécialisée dans la data. Votre entreprise a décroché une [prestation en régie au sein de l’Organisation nationale de lutte contre le faux-monnayage (ONCFM).  \n",
    "<img src=\"img/logo_oncfm.png\" style=\"display: block; margin-left: auto; margin-right: auto; width: 100%;\"/>   \n",
    "Cette institution a pour objectif de [mettre en place des méthodes d’identification des contrefaçons des billets en euros. Ils font donc appel à vous, spécialiste de la data, pour mettre en place une modélisation qui serait capable d’identifier automatiquement les vrais des faux billets et ce à partir simplement de certaines dimensions du billet et des éléments qui le composent.  \n",
    "Voici le cahier des charges de l’ONCFM [cahier des charges](doc/cahier_des_charges.pdf) ainsi que le jeu de données [billets.csv](data_raw/billets.csv)  \n",
    "Le client souhaite que vous travailliez directement depuis ses locaux sous la responsabilité de Marie, responsable du projet d’analyse de données à l’ONCFM.  \n",
    "Elle vous laissera une grande autonomie pendant votre mission, et vous demande simplement que vous lui présentiez vos résultats une fois la mission terminée.   \n",
    "Elle souhaite voir quels sont les traitements et analyses que vous avez réalisés en amont, les différentes pistes explorées pour la construction de l’algorithme, ainsi que le modèle final retenu.\n",
    "\n",
    "Après avoir lu en détail le cahier des charges, vous vous préparez à vous rendre à l’ONCFM pour prendre vos nouvelles fonctions. Vous notez tout de même un post-it qui se trouve sur le coin de votre bureau, laissé par un de vos collègues :"
   ]
  },
  {
   "cell_type": "code",
   "execution_count": 18,
   "id": "ce43abc7-4fea-4280-a9a2-102d458cc767",
   "metadata": {},
   "outputs": [],
   "source": [
    "# je commence par importer les bibliothèques dont j'aurai besoin dans mon analyse\n",
    "import pandas as pd\n",
    "import matplotlib.pyplot as plt"
   ]
  },
  {
   "cell_type": "markdown",
   "id": "f79a4393-844a-470a-bdba-d8358224094a",
   "metadata": {},
   "source": [
    "# II- Importation des fichiers"
   ]
  },
  {
   "cell_type": "code",
   "execution_count": 4,
   "id": "c90eb821-8929-4ba3-9474-62b769201986",
   "metadata": {},
   "outputs": [
    {
     "data": {
      "text/html": [
       "<div>\n",
       "<style scoped>\n",
       "    .dataframe tbody tr th:only-of-type {\n",
       "        vertical-align: middle;\n",
       "    }\n",
       "\n",
       "    .dataframe tbody tr th {\n",
       "        vertical-align: top;\n",
       "    }\n",
       "\n",
       "    .dataframe thead th {\n",
       "        text-align: right;\n",
       "    }\n",
       "</style>\n",
       "<table border=\"1\" class=\"dataframe\">\n",
       "  <thead>\n",
       "    <tr style=\"text-align: right;\">\n",
       "      <th></th>\n",
       "      <th>is_genuine</th>\n",
       "      <th>diagonal</th>\n",
       "      <th>height_left</th>\n",
       "      <th>height_right</th>\n",
       "      <th>margin_low</th>\n",
       "      <th>margin_up</th>\n",
       "      <th>length</th>\n",
       "    </tr>\n",
       "  </thead>\n",
       "  <tbody>\n",
       "    <tr>\n",
       "      <th>0</th>\n",
       "      <td>True</td>\n",
       "      <td>171.81</td>\n",
       "      <td>104.86</td>\n",
       "      <td>104.95</td>\n",
       "      <td>4.52</td>\n",
       "      <td>2.89</td>\n",
       "      <td>112.83</td>\n",
       "    </tr>\n",
       "    <tr>\n",
       "      <th>1</th>\n",
       "      <td>True</td>\n",
       "      <td>171.46</td>\n",
       "      <td>103.36</td>\n",
       "      <td>103.66</td>\n",
       "      <td>3.77</td>\n",
       "      <td>2.99</td>\n",
       "      <td>113.09</td>\n",
       "    </tr>\n",
       "    <tr>\n",
       "      <th>2</th>\n",
       "      <td>True</td>\n",
       "      <td>172.69</td>\n",
       "      <td>104.48</td>\n",
       "      <td>103.50</td>\n",
       "      <td>4.40</td>\n",
       "      <td>2.94</td>\n",
       "      <td>113.16</td>\n",
       "    </tr>\n",
       "    <tr>\n",
       "      <th>3</th>\n",
       "      <td>True</td>\n",
       "      <td>171.36</td>\n",
       "      <td>103.91</td>\n",
       "      <td>103.94</td>\n",
       "      <td>3.62</td>\n",
       "      <td>3.01</td>\n",
       "      <td>113.51</td>\n",
       "    </tr>\n",
       "    <tr>\n",
       "      <th>4</th>\n",
       "      <td>True</td>\n",
       "      <td>171.73</td>\n",
       "      <td>104.28</td>\n",
       "      <td>103.46</td>\n",
       "      <td>4.04</td>\n",
       "      <td>3.48</td>\n",
       "      <td>112.54</td>\n",
       "    </tr>\n",
       "  </tbody>\n",
       "</table>\n",
       "</div>"
      ],
      "text/plain": [
       "   is_genuine  diagonal  height_left  height_right  margin_low  margin_up  \\\n",
       "0        True    171.81       104.86        104.95        4.52       2.89   \n",
       "1        True    171.46       103.36        103.66        3.77       2.99   \n",
       "2        True    172.69       104.48        103.50        4.40       2.94   \n",
       "3        True    171.36       103.91        103.94        3.62       3.01   \n",
       "4        True    171.73       104.28        103.46        4.04       3.48   \n",
       "\n",
       "   length  \n",
       "0  112.83  \n",
       "1  113.09  \n",
       "2  113.16  \n",
       "3  113.51  \n",
       "4  112.54  "
      ]
     },
     "execution_count": 4,
     "metadata": {},
     "output_type": "execute_result"
    }
   ],
   "source": [
    "# Lecture du fichier avec ; comme séparateur\n",
    "data = pd.read_csv(\"data_raw/billets.csv\", sep=';')\n",
    "\n",
    "# Affiche les 5 premières lignes\n",
    "data.head()"
   ]
  },
  {
   "cell_type": "markdown",
   "id": "bd1d4129-4b71-491a-8fcb-09998160763f",
   "metadata": {},
   "source": [
    "III- Résumé des datas"
   ]
  },
  {
   "cell_type": "code",
   "execution_count": 7,
   "id": "b92a8fa5-62d8-43f7-9b6d-c51e04b0503c",
   "metadata": {},
   "outputs": [
    {
     "name": "stdout",
     "output_type": "stream",
     "text": [
      "<class 'pandas.core.frame.DataFrame'>\n",
      "RangeIndex: 1500 entries, 0 to 1499\n",
      "Data columns (total 7 columns):\n",
      " #   Column        Non-Null Count  Dtype  \n",
      "---  ------        --------------  -----  \n",
      " 0   is_genuine    1500 non-null   bool   \n",
      " 1   diagonal      1500 non-null   float64\n",
      " 2   height_left   1500 non-null   float64\n",
      " 3   height_right  1500 non-null   float64\n",
      " 4   margin_low    1463 non-null   float64\n",
      " 5   margin_up     1500 non-null   float64\n",
      " 6   length        1500 non-null   float64\n",
      "dtypes: bool(1), float64(6)\n",
      "memory usage: 71.9 KB\n"
     ]
    }
   ],
   "source": [
    "# On affiche le type de variables, le nombre de valeur pour chacune\n",
    "data.info()"
   ]
  },
  {
   "cell_type": "code",
   "execution_count": 5,
   "id": "cba8ca60-9758-44f8-a41f-16744596ab01",
   "metadata": {},
   "outputs": [
    {
     "data": {
      "text/html": [
       "<div>\n",
       "<style scoped>\n",
       "    .dataframe tbody tr th:only-of-type {\n",
       "        vertical-align: middle;\n",
       "    }\n",
       "\n",
       "    .dataframe tbody tr th {\n",
       "        vertical-align: top;\n",
       "    }\n",
       "\n",
       "    .dataframe thead th {\n",
       "        text-align: right;\n",
       "    }\n",
       "</style>\n",
       "<table border=\"1\" class=\"dataframe\">\n",
       "  <thead>\n",
       "    <tr style=\"text-align: right;\">\n",
       "      <th></th>\n",
       "      <th>is_genuine</th>\n",
       "      <th>diagonal</th>\n",
       "      <th>height_left</th>\n",
       "      <th>height_right</th>\n",
       "      <th>margin_low</th>\n",
       "      <th>margin_up</th>\n",
       "      <th>length</th>\n",
       "    </tr>\n",
       "  </thead>\n",
       "  <tbody>\n",
       "    <tr>\n",
       "      <th>count</th>\n",
       "      <td>1500</td>\n",
       "      <td>1500.000000</td>\n",
       "      <td>1500.000000</td>\n",
       "      <td>1500.000000</td>\n",
       "      <td>1463.000000</td>\n",
       "      <td>1500.000000</td>\n",
       "      <td>1500.00000</td>\n",
       "    </tr>\n",
       "    <tr>\n",
       "      <th>unique</th>\n",
       "      <td>2</td>\n",
       "      <td>NaN</td>\n",
       "      <td>NaN</td>\n",
       "      <td>NaN</td>\n",
       "      <td>NaN</td>\n",
       "      <td>NaN</td>\n",
       "      <td>NaN</td>\n",
       "    </tr>\n",
       "    <tr>\n",
       "      <th>top</th>\n",
       "      <td>True</td>\n",
       "      <td>NaN</td>\n",
       "      <td>NaN</td>\n",
       "      <td>NaN</td>\n",
       "      <td>NaN</td>\n",
       "      <td>NaN</td>\n",
       "      <td>NaN</td>\n",
       "    </tr>\n",
       "    <tr>\n",
       "      <th>freq</th>\n",
       "      <td>1000</td>\n",
       "      <td>NaN</td>\n",
       "      <td>NaN</td>\n",
       "      <td>NaN</td>\n",
       "      <td>NaN</td>\n",
       "      <td>NaN</td>\n",
       "      <td>NaN</td>\n",
       "    </tr>\n",
       "    <tr>\n",
       "      <th>mean</th>\n",
       "      <td>NaN</td>\n",
       "      <td>171.958440</td>\n",
       "      <td>104.029533</td>\n",
       "      <td>103.920307</td>\n",
       "      <td>4.485967</td>\n",
       "      <td>3.151473</td>\n",
       "      <td>112.67850</td>\n",
       "    </tr>\n",
       "    <tr>\n",
       "      <th>std</th>\n",
       "      <td>NaN</td>\n",
       "      <td>0.305195</td>\n",
       "      <td>0.299462</td>\n",
       "      <td>0.325627</td>\n",
       "      <td>0.663813</td>\n",
       "      <td>0.231813</td>\n",
       "      <td>0.87273</td>\n",
       "    </tr>\n",
       "    <tr>\n",
       "      <th>min</th>\n",
       "      <td>NaN</td>\n",
       "      <td>171.040000</td>\n",
       "      <td>103.140000</td>\n",
       "      <td>102.820000</td>\n",
       "      <td>2.980000</td>\n",
       "      <td>2.270000</td>\n",
       "      <td>109.49000</td>\n",
       "    </tr>\n",
       "    <tr>\n",
       "      <th>25%</th>\n",
       "      <td>NaN</td>\n",
       "      <td>171.750000</td>\n",
       "      <td>103.820000</td>\n",
       "      <td>103.710000</td>\n",
       "      <td>4.015000</td>\n",
       "      <td>2.990000</td>\n",
       "      <td>112.03000</td>\n",
       "    </tr>\n",
       "    <tr>\n",
       "      <th>50%</th>\n",
       "      <td>NaN</td>\n",
       "      <td>171.960000</td>\n",
       "      <td>104.040000</td>\n",
       "      <td>103.920000</td>\n",
       "      <td>4.310000</td>\n",
       "      <td>3.140000</td>\n",
       "      <td>112.96000</td>\n",
       "    </tr>\n",
       "    <tr>\n",
       "      <th>75%</th>\n",
       "      <td>NaN</td>\n",
       "      <td>172.170000</td>\n",
       "      <td>104.230000</td>\n",
       "      <td>104.150000</td>\n",
       "      <td>4.870000</td>\n",
       "      <td>3.310000</td>\n",
       "      <td>113.34000</td>\n",
       "    </tr>\n",
       "    <tr>\n",
       "      <th>max</th>\n",
       "      <td>NaN</td>\n",
       "      <td>173.010000</td>\n",
       "      <td>104.880000</td>\n",
       "      <td>104.950000</td>\n",
       "      <td>6.900000</td>\n",
       "      <td>3.910000</td>\n",
       "      <td>114.44000</td>\n",
       "    </tr>\n",
       "  </tbody>\n",
       "</table>\n",
       "</div>"
      ],
      "text/plain": [
       "       is_genuine     diagonal  height_left  height_right   margin_low  \\\n",
       "count        1500  1500.000000  1500.000000   1500.000000  1463.000000   \n",
       "unique          2          NaN          NaN           NaN          NaN   \n",
       "top          True          NaN          NaN           NaN          NaN   \n",
       "freq         1000          NaN          NaN           NaN          NaN   \n",
       "mean          NaN   171.958440   104.029533    103.920307     4.485967   \n",
       "std           NaN     0.305195     0.299462      0.325627     0.663813   \n",
       "min           NaN   171.040000   103.140000    102.820000     2.980000   \n",
       "25%           NaN   171.750000   103.820000    103.710000     4.015000   \n",
       "50%           NaN   171.960000   104.040000    103.920000     4.310000   \n",
       "75%           NaN   172.170000   104.230000    104.150000     4.870000   \n",
       "max           NaN   173.010000   104.880000    104.950000     6.900000   \n",
       "\n",
       "          margin_up      length  \n",
       "count   1500.000000  1500.00000  \n",
       "unique          NaN         NaN  \n",
       "top             NaN         NaN  \n",
       "freq            NaN         NaN  \n",
       "mean       3.151473   112.67850  \n",
       "std        0.231813     0.87273  \n",
       "min        2.270000   109.49000  \n",
       "25%        2.990000   112.03000  \n",
       "50%        3.140000   112.96000  \n",
       "75%        3.310000   113.34000  \n",
       "max        3.910000   114.44000  "
      ]
     },
     "execution_count": 5,
     "metadata": {},
     "output_type": "execute_result"
    }
   ],
   "source": [
    "# On affiche un résumé des datas notamment avec le nombre de valeurs uniques pour la colonne type bool\n",
    "data.describe(include=\"all\")"
   ]
  },
  {
   "cell_type": "markdown",
   "id": "ba63c2be-d3b1-4644-b957-100932e4ac30",
   "metadata": {},
   "source": [
    "Nous avons un dataframe composé de 7 colonnes et 1 500 lignes  \n",
    "1 colonne de type boléenne avec 1 000 \"True\" et 500 \"False\"  \n",
    "6 colonnes de type float  \n",
    "la colonne margin_low ne contient que 14 63 valeurs"
   ]
  },
  {
   "cell_type": "code",
   "execution_count": 44,
   "id": "36315056-fe2d-4025-928b-4e72fe6a62cc",
   "metadata": {},
   "outputs": [
    {
     "data": {
      "image/png": "[encoded data removed]",
      "text/plain": [
       "<Figure size 800x600 with 1 Axes>"
      ]
     },
     "metadata": {},
     "output_type": "display_data"
    }
   ],
   "source": [
    "plt.figure(figsize=(8, 6))\n",
    "counts = data[\"is_genuine\"].value_counts() # compte le nombre de valeurs unique dans la colonne 'is_genuine'\n",
    "plt.pie(\n",
    "    counts, # données utilisées pour le pie\n",
    "    labels=counts.index, # label 'true' ou 'false'\n",
    "    colors=[\"lightgreen\", \"lightcoral\"], # couleurs sympa ;-)\n",
    "    autopct=\"%1.1f%%\", # affiche les pourcentage\n",
    "    startangle=140, # angle de départ\n",
    "    explode=(0, 0.02), # Exagération d'une tranche\n",
    "    labeldistance=0.8, # Distance des labels par rapport au centre\n",
    "    textprops={'fontsize': 12, 'fontweight': 'bold', 'color': 'black'}  # Propriétés de la police des labels\n",
    ")\n",
    "plt.axis(\"equal\")\n",
    "plt.title(\"Proportion de billets 'vrais' vs 'faux'\", fontsize=16, fontweight='bold', color='black', loc='center')\n",
    "plt.show()"
   ]
  },
  {
   "cell_type": "markdown",
   "id": "b5ccf3c9-cdc2-486b-8c29-2ef0903b4437",
   "metadata": {},
   "source": [
    "Je vais stocker les lignes pour lesquelles la colonne margin_low est vide"
   ]
  },
  {
   "cell_type": "code",
   "execution_count": 14,
   "id": "a77c1a53-0e4d-441a-a818-09ef64b364ce",
   "metadata": {},
   "outputs": [],
   "source": [
    "# création d'un sous dataframe avec uniquement les lignes ou margin_low est vide \"NaN\"\n",
    "missing_margin_low = data[data[\"margin_low\"].isna()]"
   ]
  },
  {
   "cell_type": "code",
   "execution_count": 17,
   "id": "d26c2a22-268a-4c9d-877b-2abee94530d8",
   "metadata": {},
   "outputs": [
    {
     "name": "stdout",
     "output_type": "stream",
     "text": [
      "il y a  37 lignes pour lesquelles 'margin_low' est 'NaN'\n"
     ]
    }
   ],
   "source": [
    "# compte le nombre de ligne de ce sous dataframe\n",
    "print(\"il y a \", len(missing_margin_low), \"lignes pour lesquelles 'margin_low' est 'NaN'\")"
   ]
  },
  {
   "cell_type": "code",
   "execution_count": 100,
   "id": "9cd0bfab-8c64-422a-b710-480cc4cff4d4",
   "metadata": {},
   "outputs": [
    {
     "name": "stdout",
     "output_type": "stream",
     "text": [
      "En résumé, nous avons un DataFrame composé :\n",
      " - de 1500 lignes\n",
      " - de 7 colonnes\n",
      " - des colonnes : ['is_genuine', 'diagonal', 'height_left', 'height_right', 'margin_low', 'margin_up', 'length']\n",
      "\n",
      "Il y a 2 types de variables : [dtype('bool') dtype('float64')]\n",
      "\n",
      "La ou les colonnes de type bool sont : is_genuine\n",
      "\n",
      "La ou les colonnes de type float64 sont : diagonal, height_left, height_right, margin_low, margin_up, length\n",
      "\n",
      "Dans la colonne 'margin_low', il manque 37 valeurs.\n",
      "\n",
      "\n"
     ]
    }
   ],
   "source": [
    "# Imprimer un résumé des dimensions du DataFrame\n",
    "print(\"En résumé, nous avons un DataFrame composé :\\n\",\n",
    "      f\"- de {data.shape[0]} lignes\\n\",  # Nombre de lignes\n",
    "      f\"- de {data.shape[1]} colonnes\\n\",  # Nombre de colonnes\n",
    "      f\"- des colonnes : {data.columns.tolist()}\\n\"  # Liste des noms des colonnes\n",
    "     )\n",
    "\n",
    "# Afficher le nombre de types de variables uniques et leur liste\n",
    "print(f\"Il y a {len(data.dtypes.unique())} types de variables : {data.dtypes.unique()}\\n\")\n",
    "\n",
    "# Lister les types de données et les colonnes correspondantes\n",
    "types_uniques = data.dtypes.unique()  # Récupérer les types de données uniques dans le DataFrame\n",
    "for type_variable in types_uniques:\n",
    "    # Filtrer les colonnes correspondant à chaque type de données\n",
    "    colonnes_par_type = data.columns[data.dtypes == type_variable].tolist()\n",
    "    \n",
    "    # Afficher le type de données et les colonnes associées\n",
    "    print(f\"La ou les colonnes de type {type_variable} sont : {', '.join(colonnes_par_type)}\\n\")\n",
    "\n",
    "# Lister les colonnes contenant des valeurs NaN\n",
    "colonnes_avec_nan = data.columns[data.isna().any()].tolist()  # Récupérer les colonnes avec des NaN\n",
    "for miss_val_col in colonnes_avec_nan:\n",
    "    # Compter le nombre de valeurs manquantes dans la colonne en cours\n",
    "    miss_val_numb = data[miss_val_col].isna().sum()  \n",
    "    \n",
    "    # Afficher le résultat pour la colonne actuelle\n",
    "    print(f\"Dans la colonne '{miss_val_col}', il manque {miss_val_numb} valeurs.\\n\\n\")"
   ]
  },
  {
   "cell_type": "code",
   "execution_count": null,
   "id": "fcacfdf4-0d6c-4bf2-a5ec-dd3cc5d0beb5",
   "metadata": {},
   "outputs": [],
   "source": []
  },
  {
   "cell_type": "markdown",
   "id": "7145b990-a6ae-4454-9b7a-952ac315cbcc",
   "metadata": {},
   "source": [
    "Commençons par observer la moyenne de chaque colonne en fonction de la valeur de \"is_genuine\" \"True\" ou \"False\""
   ]
  },
  {
   "cell_type": "code",
   "execution_count": 98,
   "id": "c64e9998-f665-4bc4-ac07-b9278a440148",
   "metadata": {},
   "outputs": [
    {
     "name": "stdout",
     "output_type": "stream",
     "text": [
      "La moyenne de la colonne 'diagonal' pour les valeurs 'True' est : 171.99\n",
      "La moyenne de la colonne 'diagonal' pour les valeurs 'False' est : 171.90\n",
      "La moyenne de la colonne 'height_left' pour les valeurs 'True' est : 103.95\n",
      "La moyenne de la colonne 'height_left' pour les valeurs 'False' est : 104.19\n",
      "La moyenne de la colonne 'height_right' pour les valeurs 'True' est : 103.81\n",
      "La moyenne de la colonne 'height_right' pour les valeurs 'False' est : 104.14\n",
      "La moyenne de la colonne 'margin_low' pour les valeurs 'True' est : 4.12\n",
      "La moyenne de la colonne 'margin_low' pour les valeurs 'False' est : 5.22\n",
      "La moyenne de la colonne 'margin_up' pour les valeurs 'True' est : 3.05\n",
      "La moyenne de la colonne 'margin_up' pour les valeurs 'False' est : 3.35\n",
      "La moyenne de la colonne 'length' pour les valeurs 'True' est : 113.20\n",
      "La moyenne de la colonne 'length' pour les valeurs 'False' est : 111.63\n"
     ]
    }
   ],
   "source": [
    "colonnes_numeriques = data.select_dtypes(include=['number']).columns.tolist() #récupérer les colonnes numériques\n",
    "for num_col in colonnes_numeriques:\n",
    "    true_mean_col = data[data['is_genuine']][num_col].mean() # calcul la moyenne des colonnes pour is_genuine True\n",
    "    false_mean_col = data[~data['is_genuine']][num_col].mean() # calcul la moyenne des colonnes pour is_genuine False\n",
    "    print(f\"La moyenne de la colonne '{num_col}' pour les valeurs 'True' est : {true_mean_col:.2f}\")\n",
    "    print(f\"La moyenne de la colonne '{num_col}' pour les valeurs 'False' est : {false_mean_col:.2f}\")"
   ]
  },
  {
   "cell_type": "markdown",
   "id": "9f235424-006f-4a76-b35d-0b11bd0085da",
   "metadata": {},
   "source": [
    "Ou sous forme de dataframe pour plus de clarté"
   ]
  },
  {
   "cell_type": "code",
   "execution_count": 103,
   "id": "461ae184-9f05-4fa4-b2b5-d083f39bd6ee",
   "metadata": {},
   "outputs": [
    {
     "data": {
      "text/html": [
       "<div>\n",
       "<style scoped>\n",
       "    .dataframe tbody tr th:only-of-type {\n",
       "        vertical-align: middle;\n",
       "    }\n",
       "\n",
       "    .dataframe tbody tr th {\n",
       "        vertical-align: top;\n",
       "    }\n",
       "\n",
       "    .dataframe thead th {\n",
       "        text-align: right;\n",
       "    }\n",
       "</style>\n",
       "<table border=\"1\" class=\"dataframe\">\n",
       "  <thead>\n",
       "    <tr style=\"text-align: right;\">\n",
       "      <th></th>\n",
       "      <th>diagonal</th>\n",
       "      <th>height_left</th>\n",
       "      <th>height_right</th>\n",
       "      <th>margin_low</th>\n",
       "      <th>margin_up</th>\n",
       "      <th>length</th>\n",
       "    </tr>\n",
       "    <tr>\n",
       "      <th>is_genuine</th>\n",
       "      <th></th>\n",
       "      <th></th>\n",
       "      <th></th>\n",
       "      <th></th>\n",
       "      <th></th>\n",
       "      <th></th>\n",
       "    </tr>\n",
       "  </thead>\n",
       "  <tbody>\n",
       "    <tr>\n",
       "      <th>False</th>\n",
       "      <td>171.90</td>\n",
       "      <td>104.19</td>\n",
       "      <td>104.14</td>\n",
       "      <td>5.22</td>\n",
       "      <td>3.35</td>\n",
       "      <td>111.63</td>\n",
       "    </tr>\n",
       "    <tr>\n",
       "      <th>True</th>\n",
       "      <td>171.99</td>\n",
       "      <td>103.95</td>\n",
       "      <td>103.81</td>\n",
       "      <td>4.12</td>\n",
       "      <td>3.05</td>\n",
       "      <td>113.20</td>\n",
       "    </tr>\n",
       "  </tbody>\n",
       "</table>\n",
       "</div>"
      ],
      "text/plain": [
       "            diagonal  height_left  height_right  margin_low  margin_up  length\n",
       "is_genuine                                                                    \n",
       "False         171.90       104.19        104.14        5.22       3.35  111.63\n",
       "True          171.99       103.95        103.81        4.12       3.05  113.20"
      ]
     },
     "execution_count": 103,
     "metadata": {},
     "output_type": "execute_result"
    }
   ],
   "source": [
    "resultats = data.groupby(\"is_genuine\").agg(lambda x: x.mean(skipna=True)\n",
    "                                           if x.dtype in [\"float64\", \"int64\"]\n",
    "                                           else None)\n",
    "resultats.round(2)"
   ]
  }
 ],
 "metadata": {
  "kernelspec": {
   "display_name": "Python (tf-env)",
   "language": "python",
   "name": "tf-env"
  },
  "language_info": {
   "codemirror_mode": {
    "name": "ipython",
    "version": 3
   },
   "file_extension": ".py",
   "mimetype": "text/x-python",
   "name": "python",
   "nbconvert_exporter": "python",
   "pygments_lexer": "ipython3",
   "version": "3.12.4"
  }
 },
 "nbformat": 4,
 "nbformat_minor": 5
}
