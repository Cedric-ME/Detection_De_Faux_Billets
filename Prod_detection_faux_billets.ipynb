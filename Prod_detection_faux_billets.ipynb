{
 "cells": [
  {
   "cell_type": "markdown",
   "id": "cfff93a3-45bd-458c-bb86-9f6460ecc7cf",
   "metadata": {},
   "source": [
    "# I- Importation du fichier production"
   ]
  },
  {
   "cell_type": "markdown",
   "id": "4b9137f1-50d0-4e62-8e25-547a99b3eebd",
   "metadata": {},
   "source": [
    "On commence par importer les bibliothèques"
   ]
  },
  {
   "cell_type": "code",
   "execution_count": 4,
   "id": "e2e88c21-dd57-4cf4-b325-67734b66d562",
   "metadata": {},
   "outputs": [],
   "source": [
    "import pandas as pd\n",
    "import numpy as np\n",
    "import pickle # pour le chargement du modèle de régression logistique\n",
    "import joblib # pour le chargement du modèle Random Forest\n",
    "import tensorflow as tf # pour le chargement du modèle de réseau neuronal\n",
    "import statsmodels.api as sm # pour l'ajout de la constante\n",
    "import matplotlib.pyplot as plt"
   ]
  },
  {
   "cell_type": "code",
   "execution_count": 5,
   "id": "a24cbbd3-f8b8-464d-92c2-f4b6ea66972d",
   "metadata": {},
   "outputs": [
    {
     "data": {
      "text/html": [
       "<div>\n",
       "<style scoped>\n",
       "    .dataframe tbody tr th:only-of-type {\n",
       "        vertical-align: middle;\n",
       "    }\n",
       "\n",
       "    .dataframe tbody tr th {\n",
       "        vertical-align: top;\n",
       "    }\n",
       "\n",
       "    .dataframe thead th {\n",
       "        text-align: right;\n",
       "    }\n",
       "</style>\n",
       "<table border=\"1\" class=\"dataframe\">\n",
       "  <thead>\n",
       "    <tr style=\"text-align: right;\">\n",
       "      <th></th>\n",
       "      <th>diagonal</th>\n",
       "      <th>height_left</th>\n",
       "      <th>height_right</th>\n",
       "      <th>margin_low</th>\n",
       "      <th>margin_up</th>\n",
       "      <th>length</th>\n",
       "      <th>id</th>\n",
       "    </tr>\n",
       "  </thead>\n",
       "  <tbody>\n",
       "    <tr>\n",
       "      <th>0</th>\n",
       "      <td>171.76</td>\n",
       "      <td>104.01</td>\n",
       "      <td>103.54</td>\n",
       "      <td>5.21</td>\n",
       "      <td>3.30</td>\n",
       "      <td>111.42</td>\n",
       "      <td>A_1</td>\n",
       "    </tr>\n",
       "    <tr>\n",
       "      <th>1</th>\n",
       "      <td>171.87</td>\n",
       "      <td>104.17</td>\n",
       "      <td>104.13</td>\n",
       "      <td>6.00</td>\n",
       "      <td>3.31</td>\n",
       "      <td>112.09</td>\n",
       "      <td>A_2</td>\n",
       "    </tr>\n",
       "    <tr>\n",
       "      <th>2</th>\n",
       "      <td>172.00</td>\n",
       "      <td>104.58</td>\n",
       "      <td>104.29</td>\n",
       "      <td>4.99</td>\n",
       "      <td>3.39</td>\n",
       "      <td>111.57</td>\n",
       "      <td>A_3</td>\n",
       "    </tr>\n",
       "    <tr>\n",
       "      <th>3</th>\n",
       "      <td>172.49</td>\n",
       "      <td>104.55</td>\n",
       "      <td>104.34</td>\n",
       "      <td>4.44</td>\n",
       "      <td>3.03</td>\n",
       "      <td>113.20</td>\n",
       "      <td>A_4</td>\n",
       "    </tr>\n",
       "    <tr>\n",
       "      <th>4</th>\n",
       "      <td>171.65</td>\n",
       "      <td>103.63</td>\n",
       "      <td>103.56</td>\n",
       "      <td>3.77</td>\n",
       "      <td>3.16</td>\n",
       "      <td>113.33</td>\n",
       "      <td>A_5</td>\n",
       "    </tr>\n",
       "  </tbody>\n",
       "</table>\n",
       "</div>"
      ],
      "text/plain": [
       "   diagonal  height_left  height_right  margin_low  margin_up  length   id\n",
       "0    171.76       104.01        103.54        5.21       3.30  111.42  A_1\n",
       "1    171.87       104.17        104.13        6.00       3.31  112.09  A_2\n",
       "2    172.00       104.58        104.29        4.99       3.39  111.57  A_3\n",
       "3    172.49       104.55        104.34        4.44       3.03  113.20  A_4\n",
       "4    171.65       103.63        103.56        3.77       3.16  113.33  A_5"
      ]
     },
     "execution_count": 5,
     "metadata": {},
     "output_type": "execute_result"
    }
   ],
   "source": [
    "# Lecture du fichier avec , comme séparateur\n",
    "data = pd.read_csv(\"data_raw/billets_production.csv\", sep=',')\n",
    "\n",
    "# Affiche les 5 premières lignes\n",
    "data.head()"
   ]
  },
  {
   "cell_type": "markdown",
   "id": "ad2309e9-cd0c-4012-b49b-db45bc9bfc0e",
   "metadata": {},
   "source": [
    "On extrait 'id' pour ne garder que les colonnes numériques"
   ]
  },
  {
   "cell_type": "code",
   "execution_count": 6,
   "id": "e5da949e-1767-4c73-9ef6-9403c7dcdf95",
   "metadata": {},
   "outputs": [],
   "source": [
    "# Extraire la colonne 'id' pour l'utiliser plus tard\n",
    "data_ids = data['id']"
   ]
  },
  {
   "cell_type": "code",
   "execution_count": 7,
   "id": "a40e21f1-028c-45a9-8710-2786b7e83f40",
   "metadata": {},
   "outputs": [
    {
     "name": "stdout",
     "output_type": "stream",
     "text": [
      "   diagonal  height_left  height_right  margin_low  margin_up  length\n",
      "0    171.76       104.01        103.54        5.21       3.30  111.42\n",
      "1    171.87       104.17        104.13        6.00       3.31  112.09\n",
      "2    172.00       104.58        104.29        4.99       3.39  111.57\n",
      "3    172.49       104.55        104.34        4.44       3.03  113.20\n",
      "4    171.65       103.63        103.56        3.77       3.16  113.33\n"
     ]
    }
   ],
   "source": [
    "# Exclure la colonne 'id' avant l'entraînement\n",
    "X = data.drop(columns=['id'])\n",
    "# Affiche les premières lignes sans la colonne 'id'\n",
    "print(X.head())"
   ]
  },
  {
   "cell_type": "markdown",
   "id": "36d657a7-c8d4-431e-9af2-59daacaa6095",
   "metadata": {},
   "source": [
    "# II- Chargement du modèle de régression logistique"
   ]
  },
  {
   "cell_type": "code",
   "execution_count": 8,
   "id": "96d127da-5963-4502-93b2-9accd4ad87fd",
   "metadata": {},
   "outputs": [
    {
     "name": "stdout",
     "output_type": "stream",
     "text": [
      "Modèle chargé avec succès.\n"
     ]
    }
   ],
   "source": [
    "# Charger le modèle sauvegardé\n",
    "with open('logistic_model_aic.pkl', 'rb') as f:\n",
    "    logistic_model_aic = pickle.load(f)\n",
    "\n",
    "print(\"Modèle chargé avec succès.\")\n"
   ]
  },
  {
   "cell_type": "markdown",
   "id": "4f726045-7b9f-40ef-ba5e-62a20bd0a7ec",
   "metadata": {},
   "source": [
    "On vérifie les colonnes utilisées dans le modèle"
   ]
  },
  {
   "cell_type": "code",
   "execution_count": 9,
   "id": "ffd5d393-9fc2-4980-803c-b21cba4520a4",
   "metadata": {},
   "outputs": [
    {
     "name": "stdout",
     "output_type": "stream",
     "text": [
      "['const', 'height_right', 'margin_low', 'margin_up', 'length']\n"
     ]
    }
   ],
   "source": [
    "# Afficher les colonnes utilisées par le modèle AIC\n",
    "print(logistic_model_aic.model.exog_names)\n"
   ]
  },
  {
   "cell_type": "markdown",
   "id": "ccb64f6c-d2d3-4a41-8347-f8a87d80e489",
   "metadata": {},
   "source": [
    "On exclue les colonnes qui ne sont pas présentes dans le modèle"
   ]
  },
  {
   "cell_type": "code",
   "execution_count": 10,
   "id": "d2e79a64-cf62-400d-bd8b-1c4692c9835f",
   "metadata": {},
   "outputs": [],
   "source": [
    "# Exclure toutes les colonnes non pertinentes\n",
    "X_aic = X[['height_right', 'margin_low', 'margin_up', 'length']]\n"
   ]
  },
  {
   "cell_type": "markdown",
   "id": "5eb98a34-04d8-4b1c-a30c-accf8fe6f004",
   "metadata": {},
   "source": [
    "On ajoute une colonne 'constante'"
   ]
  },
  {
   "cell_type": "code",
   "execution_count": 11,
   "id": "6061ae83-187f-415f-81c8-4da7eabb5203",
   "metadata": {},
   "outputs": [
    {
     "name": "stdout",
     "output_type": "stream",
     "text": [
      "   const  height_right  margin_low  margin_up  length\n",
      "0    1.0        103.54        5.21       3.30  111.42\n",
      "1    1.0        104.13        6.00       3.31  112.09\n",
      "2    1.0        104.29        4.99       3.39  111.57\n",
      "3    1.0        104.34        4.44       3.03  113.20\n",
      "4    1.0        103.56        3.77       3.16  113.33\n"
     ]
    }
   ],
   "source": [
    "# Ajouter une colonne de constante (biais) à X\n",
    "X_with_const = sm.add_constant(X_aic)\n",
    "\n",
    "# Vérifier les premières lignes de X pour s'assurer que la constante est bien ajoutée\n",
    "print(X_with_const.head())\n"
   ]
  },
  {
   "cell_type": "markdown",
   "id": "d928fe11-2380-4d97-8163-5bf081d9f1b8",
   "metadata": {},
   "source": [
    "## Prédictions du modèle et probabilités"
   ]
  },
  {
   "cell_type": "code",
   "execution_count": 12,
   "id": "2c340b70-9a31-41c3-9e17-a1957445ee27",
   "metadata": {},
   "outputs": [
    {
     "name": "stdout",
     "output_type": "stream",
     "text": [
      "0    0.000035\n",
      "1    0.000002\n",
      "2    0.000005\n",
      "3    0.995109\n",
      "4    0.999994\n",
      "dtype: float64\n"
     ]
    }
   ],
   "source": [
    "# Faire des prédictions avec le modèle chargé\n",
    "reg_log_prob = logistic_model_aic.predict(X_with_const)\n",
    "# Afficher les premières prédictions\n",
    "print(reg_log_prob[:5])"
   ]
  },
  {
   "cell_type": "code",
   "execution_count": 13,
   "id": "d8761afb-3bb4-4ea1-a045-818e57c1d8b2",
   "metadata": {},
   "outputs": [
    {
     "name": "stdout",
     "output_type": "stream",
     "text": [
      "['False' 'False' 'False' 'True' 'True']\n"
     ]
    }
   ],
   "source": [
    "# Appliquer un seuil pour obtenir les prédictions\n",
    "threshold = 0.5\n",
    "reg_log_pred = np.where(reg_log_prob > threshold, \"True\", \"False\")\n",
    "\n",
    "# Afficher les premières prédictions\n",
    "print(reg_log_pred[:5])\n"
   ]
  },
  {
   "cell_type": "code",
   "execution_count": 14,
   "id": "b6439c53-9755-4010-9654-7c55347612a0",
   "metadata": {},
   "outputs": [
    {
     "data": {
      "text/html": [
       "<div>\n",
       "<style scoped>\n",
       "    .dataframe tbody tr th:only-of-type {\n",
       "        vertical-align: middle;\n",
       "    }\n",
       "\n",
       "    .dataframe tbody tr th {\n",
       "        vertical-align: top;\n",
       "    }\n",
       "\n",
       "    .dataframe thead th {\n",
       "        text-align: right;\n",
       "    }\n",
       "</style>\n",
       "<table border=\"1\" class=\"dataframe\">\n",
       "  <thead>\n",
       "    <tr style=\"text-align: right;\">\n",
       "      <th></th>\n",
       "      <th>diagonal</th>\n",
       "      <th>height_left</th>\n",
       "      <th>height_right</th>\n",
       "      <th>margin_low</th>\n",
       "      <th>margin_up</th>\n",
       "      <th>length</th>\n",
       "      <th>id</th>\n",
       "      <th>reg_log_pred</th>\n",
       "      <th>reg_log_prob</th>\n",
       "    </tr>\n",
       "  </thead>\n",
       "  <tbody>\n",
       "    <tr>\n",
       "      <th>0</th>\n",
       "      <td>171.76</td>\n",
       "      <td>104.01</td>\n",
       "      <td>103.54</td>\n",
       "      <td>5.21</td>\n",
       "      <td>3.30</td>\n",
       "      <td>111.42</td>\n",
       "      <td>A_1</td>\n",
       "      <td>False</td>\n",
       "      <td>0.003503</td>\n",
       "    </tr>\n",
       "    <tr>\n",
       "      <th>1</th>\n",
       "      <td>171.87</td>\n",
       "      <td>104.17</td>\n",
       "      <td>104.13</td>\n",
       "      <td>6.00</td>\n",
       "      <td>3.31</td>\n",
       "      <td>112.09</td>\n",
       "      <td>A_2</td>\n",
       "      <td>False</td>\n",
       "      <td>0.000171</td>\n",
       "    </tr>\n",
       "    <tr>\n",
       "      <th>2</th>\n",
       "      <td>172.00</td>\n",
       "      <td>104.58</td>\n",
       "      <td>104.29</td>\n",
       "      <td>4.99</td>\n",
       "      <td>3.39</td>\n",
       "      <td>111.57</td>\n",
       "      <td>A_3</td>\n",
       "      <td>False</td>\n",
       "      <td>0.000501</td>\n",
       "    </tr>\n",
       "    <tr>\n",
       "      <th>3</th>\n",
       "      <td>172.49</td>\n",
       "      <td>104.55</td>\n",
       "      <td>104.34</td>\n",
       "      <td>4.44</td>\n",
       "      <td>3.03</td>\n",
       "      <td>113.20</td>\n",
       "      <td>A_4</td>\n",
       "      <td>True</td>\n",
       "      <td>99.510899</td>\n",
       "    </tr>\n",
       "    <tr>\n",
       "      <th>4</th>\n",
       "      <td>171.65</td>\n",
       "      <td>103.63</td>\n",
       "      <td>103.56</td>\n",
       "      <td>3.77</td>\n",
       "      <td>3.16</td>\n",
       "      <td>113.33</td>\n",
       "      <td>A_5</td>\n",
       "      <td>True</td>\n",
       "      <td>99.999398</td>\n",
       "    </tr>\n",
       "  </tbody>\n",
       "</table>\n",
       "</div>"
      ],
      "text/plain": [
       "   diagonal  height_left  height_right  margin_low  margin_up  length   id  \\\n",
       "0    171.76       104.01        103.54        5.21       3.30  111.42  A_1   \n",
       "1    171.87       104.17        104.13        6.00       3.31  112.09  A_2   \n",
       "2    172.00       104.58        104.29        4.99       3.39  111.57  A_3   \n",
       "3    172.49       104.55        104.34        4.44       3.03  113.20  A_4   \n",
       "4    171.65       103.63        103.56        3.77       3.16  113.33  A_5   \n",
       "\n",
       "  reg_log_pred  reg_log_prob  \n",
       "0        False      0.003503  \n",
       "1        False      0.000171  \n",
       "2        False      0.000501  \n",
       "3         True     99.510899  \n",
       "4         True     99.999398  "
      ]
     },
     "execution_count": 14,
     "metadata": {},
     "output_type": "execute_result"
    }
   ],
   "source": [
    "data[\"reg_log_pred\"] = reg_log_pred\n",
    "data[\"reg_log_prob\"] = reg_log_prob * 100\n",
    "data"
   ]
  },
  {
   "cell_type": "code",
   "execution_count": 17,
   "id": "2191e836-7328-4379-86a7-9ab7ee57901e",
   "metadata": {},
   "outputs": [
    {
     "data": {
      "image/png": "[encoded data removed]",
      "text/plain": [
       "<Figure size 1000x600 with 1 Axes>"
      ]
     },
     "metadata": {},
     "output_type": "display_data"
    }
   ],
   "source": [
    "# Création d'un bar chart horizontal\n",
    "plt.figure(figsize=(10, 6))\n",
    "plt.barh(data['id'], data['reg_log_prob'], color='skyblue')\n",
    "plt.xlabel('Probabilité Vrai billet (%)')\n",
    "plt.ylabel('ID')\n",
    "plt.title('Probabilité Vrai billet')\n",
    "plt.xlim(0, 100)  # Limite de l'axe des x pour être entre 0 et 100\n",
    "plt.axvline(x=50, color='red', linestyle='--', label='Seuil de 50%')\n",
    "plt.legend()\n",
    "plt.grid(axis='x', linestyle='--', alpha=0.7)\n",
    "plt.show()"
   ]
  }
 ],
 "metadata": {
  "kernelspec": {
   "display_name": "Python (h5py-env)",
   "language": "python",
   "name": "h5py-env"
  },
  "language_info": {
   "codemirror_mode": {
    "name": "ipython",
    "version": 3
   },
   "file_extension": ".py",
   "mimetype": "text/x-python",
   "name": "python",
   "nbconvert_exporter": "python",
   "pygments_lexer": "ipython3",
   "version": "3.8.20"
  }
 },
 "nbformat": 4,
 "nbformat_minor": 5
}
