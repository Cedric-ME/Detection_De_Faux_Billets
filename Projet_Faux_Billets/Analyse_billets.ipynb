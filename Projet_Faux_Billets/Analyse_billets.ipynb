{
 "cells": [
  {
   "cell_type": "markdown",
   "id": "21c20d8a-6762-4053-ba25-0351e75d2f0c",
   "metadata": {},
   "source": [
    "## I- Contexte\n",
    "\n",
    "::: {style=\"text-align: justify;\"}\n",
    "Vous êtes consultant Data Analyst dans une entreprise spécialisée dans la data. Votre entreprise a décroché une [prestation en régie au sein de l’**Organisation nationale de lutte contre le faux-monnayage (ONCFM)**.]{style=\"color: green;\"}\n",
    "\n",
    "<img src=\"img/logo_oncfm.png\" style=\"display: block; margin-left: auto; margin-right: auto; width: 100%;\"/> \n",
    "\n",
    "Cette institution a pour objectif de [mettre en place des méthodes d’identification des contrefaçons des billets en euros]{style=\"color: green;\"}. Ils font donc appel à vous, spécialiste de la data, pour [mettre en place une modélisation qui serait capable d’identifier automatiquement les vrais des faux billets]{style=\"color: green;\"}. Et ce [à partir simplement de certaines dimensions du billet et des éléments qui le composent.]{style=\"color: green;\"}\n",
    "\n",
    "Voici le [cahier des charges de l’ONCFM](doc/cahier_des_charges.pdf) ainsi que le [jeu de données](data_raw/billets.csv)\n",
    "\n",
    "Le client souhaite que vous travailliez directement depuis ses locaux sous la responsabilité de Marie, responsable du projet d’analyse de données à l’ONCFM. Elle vous laissera une grande autonomie pendant votre mission, et vous demande simplement que vous lui présentiez vos résultats une fois la mission terminée. Elle souhaite voir quels sont les traitements et analyses que vous avez réalisés en amont, les différentes pistes explorées pour la construction de l’algorithme, ainsi que le modèle final retenu.\n",
    "\n",
    "Après avoir lu en détail le cahier des charges, vous vous préparez à vous rendre à l’ONCFM pour prendre vos nouvelles fonctions. Vous notez tout de même un post-it qui se trouve sur le coin de votre bureau, laissé par un de vos collègues :\n",
    ":::"
   ]
  }
 ],
 "metadata": {
  "kernelspec": {
   "display_name": "Python (monconconda)",
   "language": "python",
   "name": "monconconda"
  },
  "language_info": {
   "codemirror_mode": {
    "name": "ipython",
    "version": 3
   },
   "file_extension": ".py",
   "mimetype": "text/x-python",
   "name": "python",
   "nbconvert_exporter": "python",
   "pygments_lexer": "ipython3",
   "version": "3.12.4"
  }
 },
 "nbformat": 4,
 "nbformat_minor": 5
}
